{
 "cells": [
  {
   "cell_type": "code",
   "execution_count": 1,
   "id": "cafc671e",
   "metadata": {
    "ExecuteTime": {
     "end_time": "2022-10-03T16:13:45.701789Z",
     "start_time": "2022-10-03T16:13:43.462803Z"
    }
   },
   "outputs": [],
   "source": [
    "from qiskit.circuit import QuantumCircuit, QuantumRegister, ClassicalRegister\n",
    "from qiskit import transpile, assemble, Aer, IBMQ\n",
    "from qiskit.visualization import plot_histogram, plot_bloch_multivector\n",
    "from sympy import Matrix\n",
    "import matplotlib.pyplot as plt\n",
    "\n",
    "import numpy as np"
   ]
  },
  {
   "cell_type": "markdown",
   "id": "4ea1d35a",
   "metadata": {},
   "source": [
    " Draper Adder \n",
    "\n",
    "First: QFT on the zero initialized result register, second: controlled Phase rotations as per the Draper scheme with one of the number register as control\n",
    "finally: apply inverse QFT to get the original space."
   ]
  },
  {
   "cell_type": "code",
   "execution_count": 2,
   "id": "31646695",
   "metadata": {
    "ExecuteTime": {
     "end_time": "2022-10-03T16:13:45.711790Z",
     "start_time": "2022-10-03T16:13:45.701789Z"
    }
   },
   "outputs": [],
   "source": [
    "def qft_rotations(circuit, n):\n",
    "    \n",
    "    if n == 0:\n",
    "        return circuit\n",
    "    n -= 1\n",
    "    circuit.h(n)\n",
    "    for qubit in range(n):\n",
    "        circuit.cp(np.pi/2**(n-qubit), qubit, n)\n",
    "    qft_rotations(circuit, n) \n",
    "    \n",
    "def swap_registers(circuit, n):\n",
    "   \n",
    "    for qubit in range(n//2):\n",
    "        circuit.swap(qubit, n-qubit-1)\n",
    "    return circuit\n",
    "\n",
    "\n",
    "def qft(circuit, n):\n",
    "    \n",
    "    qft_rotations(circuit, n)\n",
    "    swap_registers(circuit, n)\n",
    "    return circuit"
   ]
  },
  {
   "cell_type": "code",
   "execution_count": 3,
   "id": "8558aae3",
   "metadata": {
    "ExecuteTime": {
     "end_time": "2022-10-03T16:13:45.731795Z",
     "start_time": "2022-10-03T16:13:45.711790Z"
    }
   },
   "outputs": [],
   "source": [
    "def draper_scheme_iter(a_idx, b_idx, n, scale_factor=0):\n",
    "    # Draper Scheme on the a with b, both numbers\n",
    "    circuit = QuantumCircuit(a_idx + 1, name=\"Draper_adder\")\n",
    "\n",
    "    for a_qubit in range(b_idx + 1, a_idx + 1):\n",
    "        for b_qubit in range(0, b_idx + 1):\n",
    "            exp = a_qubit - b_idx - 1 + b_qubit + 1 - n\n",
    "            if exp < 0:\n",
    "                continue\n",
    "            circuit.cp((np.pi/2**(a_qubit - b_idx - 1 + b_qubit + 1 - n)) * (2 ** scale_factor), b_qubit, a_qubit)\n",
    "    return circuit"
   ]
  },
  {
   "cell_type": "code",
   "execution_count": 4,
   "id": "2a60e038",
   "metadata": {
    "ExecuteTime": {
     "end_time": "2022-10-03T16:13:45.861850Z",
     "start_time": "2022-10-03T16:13:45.851844Z"
    }
   },
   "outputs": [],
   "source": [
    "def inverse_qft(circuit, n):\n",
    "\n",
    "    qft_circ = qft(QuantumCircuit(n), n)\n",
    "    invqft_circ = qft_circ.inverse()\n",
    "    circuit.append(invqft_circ, circuit.qubits[:n])\n",
    "    return circuit.decompose()"
   ]
  },
  {
   "cell_type": "markdown",
   "id": "6ab00fdb",
   "metadata": {},
   "source": [
    "### QFT Multiplier"
   ]
  },
  {
   "cell_type": "code",
   "execution_count": 5,
   "id": "a6076cba",
   "metadata": {
    "ExecuteTime": {
     "end_time": "2022-10-03T16:13:48.853227Z",
     "start_time": "2022-10-03T16:13:48.833223Z"
    }
   },
   "outputs": [],
   "source": [
    "def sub_adder(n, scale):\n",
    "  \n",
    "    circuit = QuantumCircuit(3*n, name=\"Drap_adder, 2^{}\".format(scale))\n",
    "    circuit.append(draper_scheme_iter(3*n-1, n-1, n,scale_factor=scale), circuit.qubits[:])\n",
    "    return circuit.decompose()"
   ]
  },
  {
   "cell_type": "markdown",
   "id": "26cfa4e9",
   "metadata": {},
   "source": [
    "#####  A Multiplication Example"
   ]
  },
  {
   "cell_type": "code",
   "execution_count": 6,
   "id": "b034d48d",
   "metadata": {
    "ExecuteTime": {
     "end_time": "2022-10-03T16:13:49.433507Z",
     "start_time": "2022-10-03T16:13:49.413497Z"
    }
   },
   "outputs": [],
   "source": [
    "a = 4\n",
    "b = 5\n",
    "n = (len(bin(b)) - 2) if len(bin(b)) >= len(bin(a)) else (len(bin(a)) - 2)\n",
    "a_bin = np.binary_repr(a, width=n)\n",
    "b_bin = np.binary_repr(b, width=n)\n",
    "a_arr, b_arr = list(a_bin), list(b_bin)\n"
   ]
  },
  {
   "cell_type": "code",
   "execution_count": 7,
   "id": "037ea81e",
   "metadata": {
    "ExecuteTime": {
     "end_time": "2022-10-03T16:13:49.593588Z",
     "start_time": "2022-10-03T16:13:49.573583Z"
    }
   },
   "outputs": [
    {
     "data": {
      "text/plain": [
       "<qiskit.circuit.instructionset.InstructionSet at 0x1f05fe39fc0>"
      ]
     },
     "execution_count": 7,
     "metadata": {},
     "output_type": "execute_result"
    }
   ],
   "source": [
    "q = QuantumRegister(4*n)\n",
    "qc = QuantumCircuit(q)\n",
    "for i in range(n):\n",
    "    if b_arr[i] == '1':\n",
    "        qc.x(i)\n",
    "for i in range(n):\n",
    "    if a_arr[i] == '1':\n",
    "        qc.x(n + i)\n",
    "qft_circ = qft(QuantumCircuit(2*n, name=\"QFT\"), 2*n)\n",
    "\n",
    "qc.barrier()\n",
    "qc.append(qft_circ, q[4*n:2*n-1:-1])\n",
    "qc.barrier()"
   ]
  },
  {
   "cell_type": "code",
   "execution_count": 8,
   "id": "0b85e497",
   "metadata": {
    "ExecuteTime": {
     "end_time": "2022-10-03T16:13:49.923732Z",
     "start_time": "2022-10-03T16:13:49.773673Z"
    }
   },
   "outputs": [],
   "source": [
    "for i in range(n):\n",
    "    subadder_now = sub_adder(n, i).control(1)\n",
    "    qc.append(subadder_now,  [q[n-1-i]] + q[n:])"
   ]
  },
  {
   "cell_type": "code",
   "execution_count": 9,
   "id": "965081e1",
   "metadata": {
    "ExecuteTime": {
     "end_time": "2022-10-03T16:13:50.383950Z",
     "start_time": "2022-10-03T16:13:50.303905Z"
    }
   },
   "outputs": [
    {
     "data": {
      "text/html": [
       "<pre style=\"word-wrap: normal;white-space: pre;background: #fff0;line-height: 1.1;font-family: &quot;Courier New&quot;,Courier,monospace\">         ┌───┐ ░          ░                                             »\n",
       "   q0_0: ┤ X ├─░──────────░─────────────────────────────────────────────»\n",
       "         └───┘ ░          ░                       ┌────────────────────┐»\n",
       "   q0_1: ──────░──────────░───────────────────────┤0                   ├»\n",
       "         ┌───┐ ░          ░ ┌────────────────────┐│                    │»\n",
       "   q0_2: ┤ X ├─░──────────░─┤0                   ├┤                    ├»\n",
       "         ├───┤ ░          ░ │                    ││                    │»\n",
       "   q0_3: ┤ X ├─░──────────░─┤1                   ├┤1                   ├»\n",
       "         └───┘ ░          ░ │                    ││                    │»\n",
       "   q0_4: ──────░──────────░─┤2                   ├┤2                   ├»\n",
       "               ░          ░ │                    ││                    │»\n",
       "   q0_5: ──────░──────────░─┤3                   ├┤3                   ├»\n",
       "               ░ ┌──────┐ ░ │                    ││                    │»\n",
       "   q0_6: ──────░─┤5     ├─░─┤4                   ├┤4 c_Drap_adder, 2^1 ├»\n",
       "               ░ │      │ ░ │  c_Drap_adder, 2^0 ││                    │»\n",
       "   q0_7: ──────░─┤4     ├─░─┤5                   ├┤5                   ├»\n",
       "               ░ │      │ ░ │                    ││                    │»\n",
       "   q0_8: ──────░─┤3     ├─░─┤6                   ├┤6                   ├»\n",
       "               ░ │  QFT │ ░ │                    ││                    │»\n",
       "   q0_9: ──────░─┤2     ├─░─┤7                   ├┤7                   ├»\n",
       "               ░ │      │ ░ │                    ││                    │»\n",
       "  q0_10: ──────░─┤1     ├─░─┤8                   ├┤8                   ├»\n",
       "               ░ │      │ ░ │                    ││                    │»\n",
       "  q0_11: ──────░─┤0     ├─░─┤9                   ├┤9                   ├»\n",
       "               ░ └──────┘ ░ └────────────────────┘└────────────────────┘»\n",
       "meas: 12/═══════════════════════════════════════════════════════════════»\n",
       "                                                                        »\n",
       "«         ┌────────────────────┐ ░              ░ ┌─┐                        »\n",
       "«   q0_0: ┤0                   ├─░──────────────░─┤M├────────────────────────»\n",
       "«         │                    │ ░              ░ └╥┘┌─┐                     »\n",
       "«   q0_1: ┤                    ├─░──────────────░──╫─┤M├─────────────────────»\n",
       "«         │                    │ ░              ░  ║ └╥┘┌─┐                  »\n",
       "«   q0_2: ┤                    ├─░──────────────░──╫──╫─┤M├──────────────────»\n",
       "«         │                    │ ░              ░  ║  ║ └╥┘┌─┐               »\n",
       "«   q0_3: ┤1                   ├─░──────────────░──╫──╫──╫─┤M├───────────────»\n",
       "«         │                    │ ░              ░  ║  ║  ║ └╥┘┌─┐            »\n",
       "«   q0_4: ┤2                   ├─░──────────────░──╫──╫──╫──╫─┤M├────────────»\n",
       "«         │                    │ ░              ░  ║  ║  ║  ║ └╥┘┌─┐         »\n",
       "«   q0_5: ┤3                   ├─░──────────────░──╫──╫──╫──╫──╫─┤M├─────────»\n",
       "«         │  c_Drap_adder, 2^2 │ ░ ┌──────────┐ ░  ║  ║  ║  ║  ║ └╥┘┌─┐      »\n",
       "«   q0_6: ┤4                   ├─░─┤5         ├─░──╫──╫──╫──╫──╫──╫─┤M├──────»\n",
       "«         │                    │ ░ │          │ ░  ║  ║  ║  ║  ║  ║ └╥┘┌─┐   »\n",
       "«   q0_7: ┤5                   ├─░─┤4         ├─░──╫──╫──╫──╫──╫──╫──╫─┤M├───»\n",
       "«         │                    │ ░ │          │ ░  ║  ║  ║  ║  ║  ║  ║ └╥┘┌─┐»\n",
       "«   q0_8: ┤6                   ├─░─┤3         ├─░──╫──╫──╫──╫──╫──╫──╫──╫─┤M├»\n",
       "«         │                    │ ░ │  INV_QFT │ ░  ║  ║  ║  ║  ║  ║  ║  ║ └╥┘»\n",
       "«   q0_9: ┤7                   ├─░─┤2         ├─░──╫──╫──╫──╫──╫──╫──╫──╫──╫─»\n",
       "«         │                    │ ░ │          │ ░  ║  ║  ║  ║  ║  ║  ║  ║  ║ »\n",
       "«  q0_10: ┤8                   ├─░─┤1         ├─░──╫──╫──╫──╫──╫──╫──╫──╫──╫─»\n",
       "«         │                    │ ░ │          │ ░  ║  ║  ║  ║  ║  ║  ║  ║  ║ »\n",
       "«  q0_11: ┤9                   ├─░─┤0         ├─░──╫──╫──╫──╫──╫──╫──╫──╫──╫─»\n",
       "«         └────────────────────┘ ░ └──────────┘ ░  ║  ║  ║  ║  ║  ║  ║  ║  ║ »\n",
       "«meas: 12/═════════════════════════════════════════╩══╩══╩══╩══╩══╩══╩══╩══╩═»\n",
       "«                                                  0  1  2  3  4  5  6  7  8 »\n",
       "«                  \n",
       "«   q0_0: ─────────\n",
       "«                  \n",
       "«   q0_1: ─────────\n",
       "«                  \n",
       "«   q0_2: ─────────\n",
       "«                  \n",
       "«   q0_3: ─────────\n",
       "«                  \n",
       "«   q0_4: ─────────\n",
       "«                  \n",
       "«   q0_5: ─────────\n",
       "«                  \n",
       "«   q0_6: ─────────\n",
       "«                  \n",
       "«   q0_7: ─────────\n",
       "«                  \n",
       "«   q0_8: ─────────\n",
       "«         ┌─┐      \n",
       "«   q0_9: ┤M├──────\n",
       "«         └╥┘┌─┐   \n",
       "«  q0_10: ─╫─┤M├───\n",
       "«          ║ └╥┘┌─┐\n",
       "«  q0_11: ─╫──╫─┤M├\n",
       "«          ║  ║ └╥┘\n",
       "«meas: 12/═╩══╩══╩═\n",
       "«          9  10 11</pre>"
      ],
      "text/plain": [
       "         ┌───┐ ░          ░                                             »\n",
       "   q0_0: ┤ X ├─░──────────░─────────────────────────────────────────────»\n",
       "         └───┘ ░          ░                       ┌────────────────────┐»\n",
       "   q0_1: ──────░──────────░───────────────────────┤0                   ├»\n",
       "         ┌───┐ ░          ░ ┌────────────────────┐│                    │»\n",
       "   q0_2: ┤ X ├─░──────────░─┤0                   ├┤                    ├»\n",
       "         ├───┤ ░          ░ │                    ││                    │»\n",
       "   q0_3: ┤ X ├─░──────────░─┤1                   ├┤1                   ├»\n",
       "         └───┘ ░          ░ │                    ││                    │»\n",
       "   q0_4: ──────░──────────░─┤2                   ├┤2                   ├»\n",
       "               ░          ░ │                    ││                    │»\n",
       "   q0_5: ──────░──────────░─┤3                   ├┤3                   ├»\n",
       "               ░ ┌──────┐ ░ │                    ││                    │»\n",
       "   q0_6: ──────░─┤5     ├─░─┤4                   ├┤4 c_Drap_adder, 2^1 ├»\n",
       "               ░ │      │ ░ │  c_Drap_adder, 2^0 ││                    │»\n",
       "   q0_7: ──────░─┤4     ├─░─┤5                   ├┤5                   ├»\n",
       "               ░ │      │ ░ │                    ││                    │»\n",
       "   q0_8: ──────░─┤3     ├─░─┤6                   ├┤6                   ├»\n",
       "               ░ │  QFT │ ░ │                    ││                    │»\n",
       "   q0_9: ──────░─┤2     ├─░─┤7                   ├┤7                   ├»\n",
       "               ░ │      │ ░ │                    ││                    │»\n",
       "  q0_10: ──────░─┤1     ├─░─┤8                   ├┤8                   ├»\n",
       "               ░ │      │ ░ │                    ││                    │»\n",
       "  q0_11: ──────░─┤0     ├─░─┤9                   ├┤9                   ├»\n",
       "               ░ └──────┘ ░ └────────────────────┘└────────────────────┘»\n",
       "meas: 12/═══════════════════════════════════════════════════════════════»\n",
       "                                                                        »\n",
       "«         ┌────────────────────┐ ░              ░ ┌─┐                        »\n",
       "«   q0_0: ┤0                   ├─░──────────────░─┤M├────────────────────────»\n",
       "«         │                    │ ░              ░ └╥┘┌─┐                     »\n",
       "«   q0_1: ┤                    ├─░──────────────░──╫─┤M├─────────────────────»\n",
       "«         │                    │ ░              ░  ║ └╥┘┌─┐                  »\n",
       "«   q0_2: ┤                    ├─░──────────────░──╫──╫─┤M├──────────────────»\n",
       "«         │                    │ ░              ░  ║  ║ └╥┘┌─┐               »\n",
       "«   q0_3: ┤1                   ├─░──────────────░──╫──╫──╫─┤M├───────────────»\n",
       "«         │                    │ ░              ░  ║  ║  ║ └╥┘┌─┐            »\n",
       "«   q0_4: ┤2                   ├─░──────────────░──╫──╫──╫──╫─┤M├────────────»\n",
       "«         │                    │ ░              ░  ║  ║  ║  ║ └╥┘┌─┐         »\n",
       "«   q0_5: ┤3                   ├─░──────────────░──╫──╫──╫──╫──╫─┤M├─────────»\n",
       "«         │  c_Drap_adder, 2^2 │ ░ ┌──────────┐ ░  ║  ║  ║  ║  ║ └╥┘┌─┐      »\n",
       "«   q0_6: ┤4                   ├─░─┤5         ├─░──╫──╫──╫──╫──╫──╫─┤M├──────»\n",
       "«         │                    │ ░ │          │ ░  ║  ║  ║  ║  ║  ║ └╥┘┌─┐   »\n",
       "«   q0_7: ┤5                   ├─░─┤4         ├─░──╫──╫──╫──╫──╫──╫──╫─┤M├───»\n",
       "«         │                    │ ░ │          │ ░  ║  ║  ║  ║  ║  ║  ║ └╥┘┌─┐»\n",
       "«   q0_8: ┤6                   ├─░─┤3         ├─░──╫──╫──╫──╫──╫──╫──╫──╫─┤M├»\n",
       "«         │                    │ ░ │  INV_QFT │ ░  ║  ║  ║  ║  ║  ║  ║  ║ └╥┘»\n",
       "«   q0_9: ┤7                   ├─░─┤2         ├─░──╫──╫──╫──╫──╫──╫──╫──╫──╫─»\n",
       "«         │                    │ ░ │          │ ░  ║  ║  ║  ║  ║  ║  ║  ║  ║ »\n",
       "«  q0_10: ┤8                   ├─░─┤1         ├─░──╫──╫──╫──╫──╫──╫──╫──╫──╫─»\n",
       "«         │                    │ ░ │          │ ░  ║  ║  ║  ║  ║  ║  ║  ║  ║ »\n",
       "«  q0_11: ┤9                   ├─░─┤0         ├─░──╫──╫──╫──╫──╫──╫──╫──╫──╫─»\n",
       "«         └────────────────────┘ ░ └──────────┘ ░  ║  ║  ║  ║  ║  ║  ║  ║  ║ »\n",
       "«meas: 12/═════════════════════════════════════════╩══╩══╩══╩══╩══╩══╩══╩══╩═»\n",
       "«                                                  0  1  2  3  4  5  6  7  8 »\n",
       "«                  \n",
       "«   q0_0: ─────────\n",
       "«                  \n",
       "«   q0_1: ─────────\n",
       "«                  \n",
       "«   q0_2: ─────────\n",
       "«                  \n",
       "«   q0_3: ─────────\n",
       "«                  \n",
       "«   q0_4: ─────────\n",
       "«                  \n",
       "«   q0_5: ─────────\n",
       "«                  \n",
       "«   q0_6: ─────────\n",
       "«                  \n",
       "«   q0_7: ─────────\n",
       "«                  \n",
       "«   q0_8: ─────────\n",
       "«         ┌─┐      \n",
       "«   q0_9: ┤M├──────\n",
       "«         └╥┘┌─┐   \n",
       "«  q0_10: ─╫─┤M├───\n",
       "«          ║ └╥┘┌─┐\n",
       "«  q0_11: ─╫──╫─┤M├\n",
       "«          ║  ║ └╥┘\n",
       "«meas: 12/═╩══╩══╩═\n",
       "«          9  10 11"
      ]
     },
     "execution_count": 9,
     "metadata": {},
     "output_type": "execute_result"
    }
   ],
   "source": [
    "qc.barrier()\n",
    "inv_qft = inverse_qft(QuantumCircuit(2*n, name=\"INV_QFT\"), 2*n)\n",
    "qc.append(inv_qft.to_instruction(), q[4*n:2*n-1:-1])\n",
    "\n",
    "qc.measure_all()\n",
    "qc.draw(scale=0.5)"
   ]
  },
  {
   "cell_type": "code",
   "execution_count": 10,
   "id": "346fe32d",
   "metadata": {
    "ExecuteTime": {
     "end_time": "2022-10-03T16:13:52.545192Z",
     "start_time": "2022-10-03T16:13:52.535190Z"
    }
   },
   "outputs": [
    {
     "name": "stdout",
     "output_type": "stream",
     "text": [
      "The depth of circuit:  7\n"
     ]
    }
   ],
   "source": [
    "print(\"The depth of circuit: \", qc.depth())"
   ]
  }
 ],
 "metadata": {
  "kernelspec": {
   "display_name": "Python 3.10.6 64-bit",
   "language": "python",
   "name": "python3"
  },
  "language_info": {
   "codemirror_mode": {
    "name": "ipython",
    "version": 3
   },
   "file_extension": ".py",
   "mimetype": "text/x-python",
   "name": "python",
   "nbconvert_exporter": "python",
   "pygments_lexer": "ipython3",
   "version": "3.10.6"
  },
  "toc": {
   "base_numbering": 1,
   "nav_menu": {},
   "number_sections": true,
   "sideBar": true,
   "skip_h1_title": false,
   "title_cell": "Table of Contents",
   "title_sidebar": "Contents",
   "toc_cell": false,
   "toc_position": {},
   "toc_section_display": true,
   "toc_window_display": false
  },
  "vscode": {
   "interpreter": {
    "hash": "26de051ba29f2982a8de78e945f0abaf191376122a1563185a90213a26c5da77"
   }
  }
 },
 "nbformat": 4,
 "nbformat_minor": 5
}
